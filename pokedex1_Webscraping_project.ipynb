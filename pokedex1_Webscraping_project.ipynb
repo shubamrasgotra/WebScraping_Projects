from bs4 import BeautifulSoup
import requests
import pandas as pd

# Fetch the data from the URL
url = 'https://pokemondb.net/pokedex/all'
page = requests.get(url)
soup = BeautifulSoup(page.content, 'html.parser')

# Extract column headers
columns = [data.text.strip() for data in soup.find_all('th')]

# Create an empty list to hold row data
data_rows = []

# Extract and store row data
pokemon = soup.find_all('tr')
for row in pokemon[1:]:
    row_data = row.find_all('td')
    individual_row_data = [data.text.strip() for data in row_data]
    # Pad the row data with None to match column length
    individual_row_data.extend([None] * (len(columns) - len(individual_row_data)))
    data_rows.append(individual_row_data)

# Create DataFrame from the list of row data
df = pd.DataFrame(data_rows, columns=columns)

# Print the resulting DataFrame
print(df)
df.to_csv(r'C:\Users\dell\Documents\Pandas export csv file\poke_dex1.csv',index = False)
